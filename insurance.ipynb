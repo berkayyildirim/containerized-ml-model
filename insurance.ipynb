{
 "cells": [
  {
   "cell_type": "markdown",
   "id": "78428740-2024-4fb4-8e39-abebc03ad488",
   "metadata": {},
   "source": [
    "# Insurance Cost Regression Study"
   ]
  },
  {
   "cell_type": "markdown",
   "id": "28d24513-522d-42ea-9c94-8631a0251f79",
   "metadata": {},
   "source": [
    "## Import required libraries"
   ]
  },
  {
   "cell_type": "code",
   "execution_count": 1,
   "id": "8f830fb5-ade4-4393-aa81-8ed217058ea0",
   "metadata": {},
   "outputs": [],
   "source": [
    "import pandas as pd\n",
    "import numpy as np\n",
    "import matplotlib.pyplot as plt\n",
    "import seaborn as sns\n",
    "from sklearn.model_selection import train_test_split, cross_val_score, GridSearchCV\n",
    "from sklearn.preprocessing import StandardScaler, OneHotEncoder, LabelEncoder\n",
    "from sklearn.linear_model import LinearRegression, Ridge, Lasso\n",
    "from sklearn.tree import DecisionTreeRegressor\n",
    "from sklearn.ensemble import RandomForestRegressor, GradientBoostingRegressor\n",
    "from sklearn.metrics import mean_squared_error, r2_score, mean_absolute_error\n",
    "import statsmodels.api as sm\n",
    "import copy\n",
    "from copy import deepcopy\n",
    "from pandas.plotting import scatter_matrix\n",
    "from scipy.stats import ttest_ind"
   ]
  },
  {
   "cell_type": "markdown",
   "id": "33e441c0-405c-4662-bf70-68d5f7ac77cc",
   "metadata": {},
   "source": [
    "## Model - Random Forest"
   ]
  },
  {
   "cell_type": "code",
   "execution_count": 2,
   "id": "534b6b65-134f-4793-b4ee-d108adb8c185",
   "metadata": {},
   "outputs": [],
   "source": [
    "# Load the dataset\n",
    "insurance_df = pd.read_csv(\"datasets/insurance.csv\")\n",
    "\n",
    "# Split data into 80:20 (train:test)\n",
    "train_data, val_data = train_test_split(insurance_df, test_size=0.2, random_state=42)\n",
    "\n",
    "# Save split datasets locally\n",
    "train_data.to_csv(\"datasets/train_data.csv\", index=False)\n",
    "val_data.to_csv(\"datasets/val_data.csv\", index=False)"
   ]
  },
  {
   "cell_type": "code",
   "execution_count": 3,
   "id": "f12cbcc7-c39e-4433-bc03-615595bc056e",
   "metadata": {},
   "outputs": [
    {
     "name": "stdout",
     "output_type": "stream",
     "text": [
      "Best Parameters: {'max_depth': None, 'max_features': None, 'min_samples_leaf': 4, 'min_samples_split': 10, 'n_estimators': 300}\n",
      "Root Mean Squared Error (RMSE): 4383.584668804266\n",
      "R^2 Score: 0.8762256260393726\n",
      "Predicted Insurance Charge: 21421.72211734341\n"
     ]
    }
   ],
   "source": [
    "# Import necessary libraries\n",
    "import pandas as pd\n",
    "from sklearn.ensemble import RandomForestRegressor\n",
    "from sklearn.model_selection import train_test_split, GridSearchCV\n",
    "from sklearn.metrics import mean_squared_error, r2_score\n",
    "import numpy as np\n",
    "\n",
    "# Preprocessing: Encode categorical variables\n",
    "insurance_df['sex'] = insurance_df['sex'].map({'male': 0, 'female': 1})\n",
    "insurance_df['smoker'] = insurance_df['smoker'].map({'no': 0, 'yes': 1})\n",
    "insurance_df = pd.get_dummies(insurance_df, columns=['region'], drop_first=True)\n",
    "\n",
    "# Handle missing values (if any)\n",
    "insurance_df['age'] = insurance_df['age'].fillna(insurance_df['age'].median())\n",
    "\n",
    "# Split the dataset into features (X) and target (y)\n",
    "X = insurance_df.drop('charges', axis=1)\n",
    "y = insurance_df['charges']\n",
    "\n",
    "# Split the data into train and test sets\n",
    "X_train, X_test, y_train, y_test = train_test_split(X, y, test_size=0.2, random_state=42)\n",
    "\n",
    "# Define the Random Forest model\n",
    "rf = RandomForestRegressor(random_state=42)\n",
    "\n",
    "# Set up the parameter grid for fine-tuning\n",
    "param_grid = {\n",
    "    'n_estimators': [100, 200, 300],\n",
    "    'max_depth': [None, 10, 20, 30],\n",
    "    'min_samples_split': [2, 5, 10],\n",
    "    'min_samples_leaf': [1, 2, 4],\n",
    "    'max_features': ['sqrt', 'log2', None]\n",
    "}\n",
    "\n",
    "# Use GridSearchCV to find the best hyperparameters\n",
    "grid_search = GridSearchCV(\n",
    "    estimator=rf, \n",
    "    param_grid=param_grid,\n",
    "    cv=3, \n",
    "    n_jobs=-1, \n",
    "    scoring='neg_mean_squared_error', \n",
    "    verbose=0  # Suppress verbose output\n",
    ")\n",
    "\n",
    "# Fit GridSearchCV\n",
    "grid_search.fit(X_train, y_train)\n",
    "\n",
    "# Get the best parameters\n",
    "best_params = grid_search.best_params_\n",
    "print(\"Best Parameters:\", best_params)\n",
    "\n",
    "# Train the Random Forest Regressor with the best parameters\n",
    "best_rf = grid_search.best_estimator_\n",
    "\n",
    "# Predict on the test set\n",
    "y_pred = best_rf.predict(X_test)\n",
    "\n",
    "# Evaluate the model\n",
    "mse = mean_squared_error(y_test, y_pred)\n",
    "rmse = np.sqrt(mse)\n",
    "r2 = r2_score(y_test, y_pred)\n",
    "\n",
    "print(f\"Root Mean Squared Error (RMSE): {rmse}\")\n",
    "print(f\"R^2 Score: {r2}\")\n",
    "\n",
    "# ---- Prediction for New Inputs ----\n",
    "\n",
    "# Define a new input for prediction\n",
    "new_input = pd.DataFrame({\n",
    "    'age': [30],\n",
    "    'sex': [1],  # 1 = female, 0 = male\n",
    "    'bmi': [28.5],\n",
    "    'children': [2],\n",
    "    'smoker': [1],  # 1 = yes, 0 = no\n",
    "    'region_northwest': [0],\n",
    "    'region_southeast': [1],\n",
    "    'region_southwest': [0]\n",
    "})\n",
    "\n",
    "# Ensure the input matches the feature structure\n",
    "new_prediction = best_rf.predict(new_input)\n",
    "print(f\"Predicted Insurance Charge: {new_prediction[0]}\")"
   ]
  },
  {
   "cell_type": "code",
   "execution_count": 4,
   "id": "c45f7dd5-843c-44b5-9a32-31e031a1f4f7",
   "metadata": {},
   "outputs": [
    {
     "data": {
      "text/plain": [
       "['insurance_model.pkl']"
      ]
     },
     "execution_count": 4,
     "metadata": {},
     "output_type": "execute_result"
    }
   ],
   "source": [
    "import joblib\n",
    "\n",
    "# Assuming your trained model is called `best_rf`\n",
    "joblib.dump(best_rf, 'insurance_model.pkl')"
   ]
  }
 ],
 "metadata": {
  "kernelspec": {
   "display_name": "Python 3 (ipykernel)",
   "language": "python",
   "name": "python3"
  },
  "language_info": {
   "codemirror_mode": {
    "name": "ipython",
    "version": 3
   },
   "file_extension": ".py",
   "mimetype": "text/x-python",
   "name": "python",
   "nbconvert_exporter": "python",
   "pygments_lexer": "ipython3",
   "version": "3.12.5"
  }
 },
 "nbformat": 4,
 "nbformat_minor": 5
}
